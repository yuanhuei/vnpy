{
 "cells": [
  {
   "cell_type": "code",
   "execution_count": 2,
   "metadata": {},
   "outputs": [
    {
     "ename": "ModuleNotFoundError",
     "evalue": "No module named 'vnpy.trader.vtObject'",
     "output_type": "error",
     "traceback": [
      "\u001b[1;31m---------------------------------------------------------------------------\u001b[0m",
      "\u001b[1;31mModuleNotFoundError\u001b[0m                       Traceback (most recent call last)",
      "\u001b[1;32m<ipython-input-2-046521956c8c>\u001b[0m in \u001b[0;36m<module>\u001b[1;34m\u001b[0m\n\u001b[0;32m      6\u001b[0m \u001b[1;32mimport\u001b[0m \u001b[0mmatplotlib\u001b[0m\u001b[1;33m.\u001b[0m\u001b[0mpyplot\u001b[0m \u001b[1;32mas\u001b[0m \u001b[0mplt\u001b[0m\u001b[1;33m\u001b[0m\u001b[1;33m\u001b[0m\u001b[0m\n\u001b[0;32m      7\u001b[0m \u001b[1;33m\u001b[0m\u001b[0m\n\u001b[1;32m----> 8\u001b[1;33m \u001b[1;32mfrom\u001b[0m \u001b[0mturtleEngine\u001b[0m \u001b[1;32mimport\u001b[0m \u001b[0mBacktestingEngine\u001b[0m\u001b[1;33m\u001b[0m\u001b[1;33m\u001b[0m\u001b[0m\n\u001b[0m",
      "\u001b[1;32m~\\Documents\\GitHub\\vnpy-1.9.2-LTS\\examples\\TurtleStrategy\\turtleEngine.py\u001b[0m in \u001b[0;36m<module>\u001b[1;34m\u001b[0m\n\u001b[0;32m     11\u001b[0m \u001b[1;32mfrom\u001b[0m \u001b[0mpymongo\u001b[0m \u001b[1;32mimport\u001b[0m \u001b[0mMongoClient\u001b[0m\u001b[1;33m\u001b[0m\u001b[1;33m\u001b[0m\u001b[0m\n\u001b[0;32m     12\u001b[0m \u001b[1;33m\u001b[0m\u001b[0m\n\u001b[1;32m---> 13\u001b[1;33m \u001b[1;32mfrom\u001b[0m \u001b[0mvnpy\u001b[0m\u001b[1;33m.\u001b[0m\u001b[0mtrader\u001b[0m\u001b[1;33m.\u001b[0m\u001b[0mvtObject\u001b[0m \u001b[1;32mimport\u001b[0m \u001b[0mVtBarData\u001b[0m\u001b[1;33m\u001b[0m\u001b[1;33m\u001b[0m\u001b[0m\n\u001b[0m\u001b[0;32m     14\u001b[0m \u001b[1;32mfrom\u001b[0m \u001b[0mvnpy\u001b[0m\u001b[1;33m.\u001b[0m\u001b[0mtrader\u001b[0m\u001b[1;33m.\u001b[0m\u001b[0mvtConstant\u001b[0m \u001b[1;32mimport\u001b[0m \u001b[0mDIRECTION_LONG\u001b[0m\u001b[1;33m,\u001b[0m \u001b[0mDIRECTION_SHORT\u001b[0m\u001b[1;33m\u001b[0m\u001b[1;33m\u001b[0m\u001b[0m\n\u001b[0;32m     15\u001b[0m \u001b[1;33m\u001b[0m\u001b[0m\n",
      "\u001b[1;31mModuleNotFoundError\u001b[0m: No module named 'vnpy.trader.vtObject'"
     ]
    }
   ],
   "source": [
    "%matplotlib inline\n",
    "\n",
    "from datetime import datetime\n",
    "\n",
    "import numpy as np\n",
    "import matplotlib.pyplot as plt\n",
    "\n",
    "from turtleEngine import BacktestingEngine"
   ]
  },
  {
   "cell_type": "code",
   "execution_count": null,
   "metadata": {
    "scrolled": false
   },
   "outputs": [
    {
     "name": "stdout",
     "output_type": "stream",
     "text": [
      "投资组合的合约代码['IF99', 'I99', 'CU99', 'TA99']\n",
      "投资组合的初始价值10000000\n",
      "IF99数据加载完成，总数据量：1185\n",
      "I99数据加载完成，总数据量：1185\n",
      "CU99数据加载完成，总数据量：1185\n",
      "TA99数据加载完成，总数据量：1185\n",
      "全部数据加载完成\n",
      "开始回放K线数据\n",
      "K线数据回放结束\n",
      "开始统计回测结果\n",
      "------------------------------\n",
      "首个交易日：\t2014-01-02 00:00:00\n",
      "最后交易日：\t2018-11-09 00:00:00\n",
      "总交易日：\t1185\n",
      "盈利交易日\t523\n",
      "亏损交易日：\t552\n",
      "起始资金：\t10000000\n",
      "结束资金：\t54,093,646.23\n",
      "总收益率：\t440.94%\n",
      "年化收益：\t37.23%\n",
      "总盈亏：\t44,093,646.23\n",
      "最大回撤: \t-7,822,360.7\n",
      "百分比最大回撤: -18.09%\n",
      "总手续费：\t607,834.31\n",
      "总滑点：\t170,572.2\n",
      "总成交笔数：\t571.0\n",
      "日均盈亏：\t37,209.83\n",
      "日均手续费：\t512.94\n",
      "日均滑点：\t143.94\n",
      "日均成交笔数：\t0.0\n",
      "日均收益率：\t0.16%\n",
      "收益标准差：\t1.6%\n",
      "Sharpe Ratio：\t1.5\n"
     ]
    }
   ],
   "source": [
    "engine = BacktestingEngine()\n",
    "engine.setPeriod(datetime(2014, 1, 1), datetime(2018, 12, 30))\n",
    "engine.initPortfolio('setting.csv', 10000000)\n",
    "\n",
    "engine.loadData()\n",
    "engine.runBacktesting()\n",
    "engine.showResult()"
   ]
  },
  {
   "cell_type": "code",
   "execution_count": 1,
   "metadata": {
    "scrolled": false
   },
   "outputs": [
    {
     "ename": "NameError",
     "evalue": "name 'engine' is not defined",
     "output_type": "error",
     "traceback": [
      "\u001b[1;31m---------------------------------------------------------------------------\u001b[0m",
      "\u001b[1;31mNameError\u001b[0m                                 Traceback (most recent call last)",
      "\u001b[1;32m<ipython-input-1-79ba7ffcbbc1>\u001b[0m in \u001b[0;36m<module>\u001b[1;34m\u001b[0m\n\u001b[1;32m----> 1\u001b[1;33m \u001b[0mtradeList\u001b[0m \u001b[1;33m=\u001b[0m \u001b[0mengine\u001b[0m\u001b[1;33m.\u001b[0m\u001b[0mgetTradeData\u001b[0m\u001b[1;33m(\u001b[0m\u001b[1;34m'000300'\u001b[0m\u001b[1;33m)\u001b[0m\u001b[1;33m\u001b[0m\u001b[1;33m\u001b[0m\u001b[0m\n\u001b[0m\u001b[0;32m      2\u001b[0m \u001b[1;32mfor\u001b[0m \u001b[0mtrade\u001b[0m \u001b[1;32min\u001b[0m \u001b[0mtradeList\u001b[0m\u001b[1;33m:\u001b[0m\u001b[1;33m\u001b[0m\u001b[1;33m\u001b[0m\u001b[0m\n\u001b[0;32m      3\u001b[0m     \u001b[0mprint\u001b[0m \u001b[1;33m(\u001b[0m\u001b[1;34m'%s %s %s %s @%s'\u001b[0m \u001b[1;33m%\u001b[0m\u001b[1;33m(\u001b[0m\u001b[0mtrade\u001b[0m\u001b[1;33m.\u001b[0m\u001b[0mvtSymbol\u001b[0m\u001b[1;33m,\u001b[0m \u001b[0mtrade\u001b[0m\u001b[1;33m.\u001b[0m\u001b[0mdirection\u001b[0m\u001b[1;33m,\u001b[0m \u001b[0mtrade\u001b[0m\u001b[1;33m.\u001b[0m\u001b[0moffset\u001b[0m\u001b[1;33m,\u001b[0m\u001b[0mtrade\u001b[0m\u001b[1;33m.\u001b[0m\u001b[0mvolume\u001b[0m\u001b[1;33m,\u001b[0m \u001b[0mtrade\u001b[0m\u001b[1;33m.\u001b[0m\u001b[0mprice\u001b[0m\u001b[1;33m)\u001b[0m\u001b[1;33m)\u001b[0m\u001b[1;33m\u001b[0m\u001b[1;33m\u001b[0m\u001b[0m\n",
      "\u001b[1;31mNameError\u001b[0m: name 'engine' is not defined"
     ]
    }
   ],
   "source": [
    "tradeList = engine.getTradeData('000300')\n",
    "for trade in tradeList:\n",
    "    print ('%s %s %s %s @%s' %(trade.vtSymbol, trade.direction, trade.offset,trade.volume, trade.price))"
   ]
  },
  {
   "cell_type": "code",
   "execution_count": null,
   "metadata": {},
   "outputs": [],
   "source": []
  }
 ],
 "metadata": {
  "kernelspec": {
   "display_name": "Python 3",
   "language": "python",
   "name": "python3"
  },
  "language_info": {
   "codemirror_mode": {
    "name": "ipython",
    "version": 3
   },
   "file_extension": ".py",
   "mimetype": "text/x-python",
   "name": "python",
   "nbconvert_exporter": "python",
   "pygments_lexer": "ipython3",
   "version": "3.7.1"
  }
 },
 "nbformat": 4,
 "nbformat_minor": 2
}
