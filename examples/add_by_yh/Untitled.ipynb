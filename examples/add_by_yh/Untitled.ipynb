{
 "cells": [
  {
   "cell_type": "code",
   "execution_count": 52,
   "metadata": {},
   "outputs": [
    {
     "data": {
      "text/plain": [
       "['C:\\\\Users\\\\yuanh\\\\Documents\\\\GitHub\\\\vnpy',\n",
       " 'C:\\\\Users\\\\yuanh\\\\Documents\\\\GitHub\\\\vnpy',\n",
       " 'C:\\\\Users\\\\yuanh\\\\Documents\\\\GitHub\\\\vnpy',\n",
       " 'C:\\\\Users\\\\yuanh\\\\Documents\\\\GitHub\\\\vnpy',\n",
       " 'C:\\\\Users\\\\yuanh\\\\Documents\\\\GitHub\\\\vnpy',\n",
       " 'C:\\\\Users\\\\yuanh\\\\Documents\\\\GitHub\\\\vnpy',\n",
       " 'C:\\\\Users\\\\yuanh\\\\Documents\\\\GitHub\\\\vnpy',\n",
       " 'C:\\\\Users\\\\yuanh\\\\Documents\\\\GitHub\\\\vnpy',\n",
       " 'C:\\\\Users\\\\yuanh\\\\Documents\\\\GitHub\\\\vnpy',\n",
       " 'C:\\\\Users\\\\yuanh\\\\Documents\\\\GitHub\\\\vnpy',\n",
       " 'C:\\\\Users\\\\yuanh\\\\Documents\\\\GitHub\\\\vnpy',\n",
       " 'C:\\\\Users\\\\yuanh\\\\Documents\\\\GitHub\\\\vnpy',\n",
       " 'C:\\\\Users\\\\yuanh\\\\Documents\\\\GitHub\\\\vnpy',\n",
       " 'C:\\\\Users\\\\yuanh\\\\Documents\\\\GitHub\\\\vnpy\\\\examples\\\\add_by_yh',\n",
       " 'C:\\\\Users\\\\yuanh\\\\Documents\\\\GitHub\\\\vnpy',\n",
       " 'c:\\\\vnstudio\\\\python37.zip',\n",
       " 'c:\\\\vnstudio\\\\DLLs',\n",
       " 'c:\\\\vnstudio\\\\lib',\n",
       " 'c:\\\\vnstudio',\n",
       " '',\n",
       " 'c:\\\\vnstudio\\\\lib\\\\site-packages',\n",
       " 'c:\\\\vnstudio\\\\lib\\\\site-packages\\\\win32',\n",
       " 'c:\\\\vnstudio\\\\lib\\\\site-packages\\\\win32\\\\lib',\n",
       " 'c:\\\\vnstudio\\\\lib\\\\site-packages\\\\Pythonwin',\n",
       " 'c:\\\\vnstudio\\\\lib\\\\site-packages\\\\IPython\\\\extensions',\n",
       " 'C:\\\\Users\\\\yuanh\\\\.ipython',\n",
       " 'C:\\\\Users\\\\yuanh']"
      ]
     },
     "execution_count": 52,
     "metadata": {},
     "output_type": "execute_result"
    }
   ],
   "source": [
    "import sys\n",
    "sys.path"
   ]
  },
  {
   "cell_type": "code",
   "execution_count": 53,
   "metadata": {},
   "outputs": [],
   "source": [
    "#%%\n",
    "import sys\n",
    "sys.path\n",
    "sys.path.insert(0,\"C:\\\\Users\\yuanh\\\\Documents\\\\GitHub\\\\vnpy\")\n",
    "\n",
    "from vnpy.app.cta_strategy.backtesting import BacktestingEngine, OptimizationSetting\n",
    "\n",
    "from vnpy.app.cta_strategy.strategies.my_bolling_multipos_strategy import (\n",
    "    MyBollingMultiPosStrategy,\n",
    ")\n",
    "from vnpy.app.cta_strategy.strategies.my_bolling_day_strategy import (\n",
    "    MyBollingDayStrategy,\n",
    ")\n",
    "from vnpy.app.cta_strategy.strategies.my_bolling_15min_strategy import (\n",
    "    MyBolling15MinStrategy,\n",
    ")\n",
    "from datetime import datetime"
   ]
  },
  {
   "cell_type": "code",
   "execution_count": 54,
   "metadata": {},
   "outputs": [
    {
     "name": "stdout",
     "output_type": "stream",
     "text": [
      "Write a CSV file to path C:\\Users\\yuanh\\Documents\\GitHub\\vnpy\\examples\\add_by_yh\\datasig5.csv Successful.\n",
      "Write a CSV file to path C:\\Users\\yuanh\\Documents\\GitHub\\vnpy\\examples\\add_by_yh\\datasig15.csv Successful.\n",
      "Write a CSV file to path C:\\Users\\yuanh\\Documents\\GitHub\\vnpy\\examples\\add_by_yh\\datasig30.csv Successful.\n",
      "Write a CSV file to path C:\\Users\\yuanh\\Documents\\GitHub\\vnpy\\examples\\add_by_yh\\datasigDay.csv Successful.\n",
      "Write a CSV file to path datasigTrade.csv Successful.\n",
      "Write a CSV file to path datasigPos.csv Successful.\n",
      "self.cta_engine.capital %d 1000000\n"
     ]
    }
   ],
   "source": [
    "#%%\n",
    "#橡胶ru99.CFFEX,焦炭j99.DCE,螺纹钢rb888.SHFE,铜cu888.SHFE,鸡蛋jd99.DCE,铁矿石i99.DCE,豆粕m99.CFFEX,玉米c99.DCE\n",
    "engine = BacktestingEngine()\n",
    "engine.set_parameters(\n",
    "    vt_symbol=\"zn99.SHFE\",\n",
    "    interval=\"1m\",\n",
    "    start=datetime(2010, 4, 16),\n",
    "    end=datetime(2020, 4, 16),\n",
    "    rate=0.3/10000,\n",
    "    slippage=1,\n",
    "    size=10,\n",
    "    pricetick=0.2,\n",
    "    capital=1_000_000,\n",
    ")\n",
    "engine.add_strategy(MyBollingMultiPosStrategy, {})"
   ]
  },
  {
   "cell_type": "code",
   "execution_count": 55,
   "metadata": {},
   "outputs": [
    {
     "name": "stdout",
     "output_type": "stream",
     "text": [
      "2021-02-05 22:09:25.881872\t开始加载历史数据\n",
      "2021-02-05 22:09:25.883870\t加载进度：# [0%]\n",
      "2021-02-05 22:09:26.869509\t加载进度：# [10%]\n",
      "2021-02-05 22:09:27.841153\t加载进度：## [20%]\n",
      "2021-02-05 22:09:28.200016\t加载进度：### [30%]\n",
      "2021-02-05 22:09:28.468011\t加载进度：#### [40%]\n",
      "2021-02-05 22:09:28.827787\t加载进度：##### [50%]\n",
      "2021-02-05 22:09:29.121606\t加载进度：###### [60%]\n",
      "2021-02-05 22:09:29.345288\t加载进度：####### [70%]\n",
      "2021-02-05 22:09:29.482594\t加载进度：######## [80%]\n",
      "2021-02-05 22:09:29.482594\t加载进度：######### [90%]\n",
      "2021-02-05 22:09:29.483593\t加载进度：########## [100%]\n",
      "2021-02-05 22:09:29.483593\t历史数据加载完成，数据量：661645\n",
      "2021-02-05 22:09:30.753831\t策略初始化完成\n",
      "2021-02-05 22:09:30.755831\t开始回放历史数据\n",
      "仓位self.pos和仓位列表self.posdata不匹配\n"
     ]
    },
    {
     "ename": "SystemExit",
     "evalue": "1",
     "output_type": "error",
     "traceback": [
      "An exception has occurred, use %tb to see the full traceback.\n",
      "\u001b[1;31mSystemExit\u001b[0m\u001b[1;31m:\u001b[0m 1\n"
     ]
    }
   ],
   "source": [
    "#%%\n",
    "engine.load_data()\n",
    "engine.run_backtesting()\n",
    "df = engine.calculate_result()\n",
    "engine.calculate_statistics()\n",
    "engine.show_chart()"
   ]
  },
  {
   "cell_type": "code",
   "execution_count": 56,
   "metadata": {},
   "outputs": [
    {
     "ename": "SystemExit",
     "evalue": "1",
     "output_type": "error",
     "traceback": [
      "\u001b[1;31m---------------------------------------------------------------------------\u001b[0m",
      "\u001b[1;31mSystemExit\u001b[0m                                Traceback (most recent call last)",
      "\u001b[1;32m<ipython-input-55-06c0f59cbee0>\u001b[0m in \u001b[0;36m<module>\u001b[1;34m\u001b[0m\n\u001b[0;32m      1\u001b[0m \u001b[1;31m#%%\u001b[0m\u001b[1;33m\u001b[0m\u001b[1;33m\u001b[0m\u001b[1;33m\u001b[0m\u001b[0m\n\u001b[0;32m      2\u001b[0m \u001b[0mengine\u001b[0m\u001b[1;33m.\u001b[0m\u001b[0mload_data\u001b[0m\u001b[1;33m(\u001b[0m\u001b[1;33m)\u001b[0m\u001b[1;33m\u001b[0m\u001b[1;33m\u001b[0m\u001b[0m\n\u001b[1;32m----> 3\u001b[1;33m \u001b[0mengine\u001b[0m\u001b[1;33m.\u001b[0m\u001b[0mrun_backtesting\u001b[0m\u001b[1;33m(\u001b[0m\u001b[1;33m)\u001b[0m\u001b[1;33m\u001b[0m\u001b[1;33m\u001b[0m\u001b[0m\n\u001b[0m\u001b[0;32m      4\u001b[0m \u001b[0mdf\u001b[0m \u001b[1;33m=\u001b[0m \u001b[0mengine\u001b[0m\u001b[1;33m.\u001b[0m\u001b[0mcalculate_result\u001b[0m\u001b[1;33m(\u001b[0m\u001b[1;33m)\u001b[0m\u001b[1;33m\u001b[0m\u001b[1;33m\u001b[0m\u001b[0m\n\u001b[0;32m      5\u001b[0m \u001b[0mengine\u001b[0m\u001b[1;33m.\u001b[0m\u001b[0mcalculate_statistics\u001b[0m\u001b[1;33m(\u001b[0m\u001b[1;33m)\u001b[0m\u001b[1;33m\u001b[0m\u001b[1;33m\u001b[0m\u001b[0m\n",
      "\u001b[1;32m~\\Documents\\GitHub\\vnpy\\vnpy\\app\\cta_strategy\\backtesting.py\u001b[0m in \u001b[0;36mrun_backtesting\u001b[1;34m(self)\u001b[0m\n\u001b[0;32m    315\u001b[0m             \u001b[1;32mfor\u001b[0m \u001b[0mdata\u001b[0m \u001b[1;32min\u001b[0m \u001b[0mbatch_data\u001b[0m\u001b[1;33m:\u001b[0m\u001b[1;33m\u001b[0m\u001b[1;33m\u001b[0m\u001b[0m\n\u001b[0;32m    316\u001b[0m                 \u001b[1;32mtry\u001b[0m\u001b[1;33m:\u001b[0m\u001b[1;33m\u001b[0m\u001b[1;33m\u001b[0m\u001b[0m\n\u001b[1;32m--> 317\u001b[1;33m                     \u001b[0mfunc\u001b[0m\u001b[1;33m(\u001b[0m\u001b[0mdata\u001b[0m\u001b[1;33m)\u001b[0m\u001b[1;33m\u001b[0m\u001b[1;33m\u001b[0m\u001b[0m\n\u001b[0m\u001b[0;32m    318\u001b[0m                 \u001b[1;32mexcept\u001b[0m \u001b[0mException\u001b[0m\u001b[1;33m:\u001b[0m\u001b[1;33m\u001b[0m\u001b[1;33m\u001b[0m\u001b[0m\n\u001b[0;32m    319\u001b[0m                     \u001b[0mself\u001b[0m\u001b[1;33m.\u001b[0m\u001b[0moutput\u001b[0m\u001b[1;33m(\u001b[0m\u001b[1;34m\"触发异常，回测终止\"\u001b[0m\u001b[1;33m)\u001b[0m\u001b[1;33m\u001b[0m\u001b[1;33m\u001b[0m\u001b[0m\n",
      "\u001b[1;32m~\\Documents\\GitHub\\vnpy\\vnpy\\app\\cta_strategy\\backtesting.py\u001b[0m in \u001b[0;36mnew_bar\u001b[1;34m(self, bar)\u001b[0m\n\u001b[0;32m    794\u001b[0m         \u001b[0mself\u001b[0m\u001b[1;33m.\u001b[0m\u001b[0mcross_limit_order\u001b[0m\u001b[1;33m(\u001b[0m\u001b[1;33m)\u001b[0m\u001b[1;33m\u001b[0m\u001b[1;33m\u001b[0m\u001b[0m\n\u001b[0;32m    795\u001b[0m         \u001b[0mself\u001b[0m\u001b[1;33m.\u001b[0m\u001b[0mcross_stop_order\u001b[0m\u001b[1;33m(\u001b[0m\u001b[1;33m)\u001b[0m\u001b[1;33m\u001b[0m\u001b[1;33m\u001b[0m\u001b[0m\n\u001b[1;32m--> 796\u001b[1;33m         \u001b[0mself\u001b[0m\u001b[1;33m.\u001b[0m\u001b[0mstrategy\u001b[0m\u001b[1;33m.\u001b[0m\u001b[0mon_bar\u001b[0m\u001b[1;33m(\u001b[0m\u001b[0mbar\u001b[0m\u001b[1;33m)\u001b[0m\u001b[1;33m\u001b[0m\u001b[1;33m\u001b[0m\u001b[0m\n\u001b[0m\u001b[0;32m    797\u001b[0m \u001b[1;33m\u001b[0m\u001b[0m\n\u001b[0;32m    798\u001b[0m         \u001b[0mself\u001b[0m\u001b[1;33m.\u001b[0m\u001b[0mupdate_daily_close\u001b[0m\u001b[1;33m(\u001b[0m\u001b[0mbar\u001b[0m\u001b[1;33m.\u001b[0m\u001b[0mclose_price\u001b[0m\u001b[1;33m)\u001b[0m\u001b[1;33m\u001b[0m\u001b[1;33m\u001b[0m\u001b[0m\n",
      "\u001b[1;32m~\\Documents\\GitHub\\vnpy\\vnpy\\app\\cta_strategy\\strategies\\my_bolling_multipos_strategy.py\u001b[0m in \u001b[0;36mon_bar\u001b[1;34m(self, bar)\u001b[0m\n\u001b[0;32m    248\u001b[0m         \u001b[0mself\u001b[0m\u001b[1;33m.\u001b[0m\u001b[0mbmDay\u001b[0m\u001b[1;33m.\u001b[0m\u001b[0mupdate_bar\u001b[0m\u001b[1;33m(\u001b[0m\u001b[0mbar\u001b[0m\u001b[1;33m)\u001b[0m\u001b[1;33m\u001b[0m\u001b[1;33m\u001b[0m\u001b[0m\n\u001b[0;32m    249\u001b[0m         \u001b[1;31m#s基于30分钟更新\u001b[0m\u001b[1;33m\u001b[0m\u001b[1;33m\u001b[0m\u001b[1;33m\u001b[0m\u001b[0m\n\u001b[1;32m--> 250\u001b[1;33m         \u001b[0mself\u001b[0m\u001b[1;33m.\u001b[0m\u001b[0mbm30\u001b[0m\u001b[1;33m.\u001b[0m\u001b[0mupdate_bar\u001b[0m\u001b[1;33m(\u001b[0m\u001b[0mbar\u001b[0m\u001b[1;33m)\u001b[0m\u001b[1;33m\u001b[0m\u001b[1;33m\u001b[0m\u001b[0m\n\u001b[0m\u001b[0;32m    251\u001b[0m         \u001b[1;31m# 基于15分钟更新\u001b[0m\u001b[1;33m\u001b[0m\u001b[1;33m\u001b[0m\u001b[1;33m\u001b[0m\u001b[0m\n\u001b[0;32m    252\u001b[0m         \u001b[0mself\u001b[0m\u001b[1;33m.\u001b[0m\u001b[0mbm15\u001b[0m\u001b[1;33m.\u001b[0m\u001b[0mupdate_bar\u001b[0m\u001b[1;33m(\u001b[0m\u001b[0mbar\u001b[0m\u001b[1;33m)\u001b[0m\u001b[1;33m\u001b[0m\u001b[1;33m\u001b[0m\u001b[0m\n",
      "\u001b[1;32m~\\Documents\\GitHub\\vnpy\\vnpy\\trader\\utility.py\u001b[0m in \u001b[0;36mupdate_bar\u001b[1;34m(self, bar)\u001b[0m\n\u001b[0;32m    326\u001b[0m                 \u001b[0mself\u001b[0m\u001b[1;33m.\u001b[0m\u001b[0minterval_count\u001b[0m \u001b[1;33m=\u001b[0m \u001b[1;36m0\u001b[0m\u001b[1;33m\u001b[0m\u001b[1;33m\u001b[0m\u001b[0m\n\u001b[0;32m    327\u001b[0m         \u001b[1;32mif\u001b[0m \u001b[0mfinished\u001b[0m\u001b[1;33m:\u001b[0m\u001b[1;33m\u001b[0m\u001b[1;33m\u001b[0m\u001b[0m\n\u001b[1;32m--> 328\u001b[1;33m             \u001b[0mself\u001b[0m\u001b[1;33m.\u001b[0m\u001b[0mon_window_bar\u001b[0m\u001b[1;33m(\u001b[0m\u001b[0mself\u001b[0m\u001b[1;33m.\u001b[0m\u001b[0mwindow_bar\u001b[0m\u001b[1;33m)\u001b[0m\u001b[1;33m\u001b[0m\u001b[1;33m\u001b[0m\u001b[0m\n\u001b[0m\u001b[0;32m    329\u001b[0m             \u001b[0mself\u001b[0m\u001b[1;33m.\u001b[0m\u001b[0mwindow_bar\u001b[0m \u001b[1;33m=\u001b[0m \u001b[1;32mNone\u001b[0m\u001b[1;33m\u001b[0m\u001b[1;33m\u001b[0m\u001b[0m\n\u001b[0;32m    330\u001b[0m \u001b[1;33m\u001b[0m\u001b[0m\n",
      "\u001b[1;32m~\\Documents\\GitHub\\vnpy\\vnpy\\app\\cta_strategy\\strategies\\my_bolling_multipos_strategy.py\u001b[0m in \u001b[0;36mon_30Min_bar\u001b[1;34m(self, bar)\u001b[0m\n\u001b[0;32m    509\u001b[0m             \u001b[0mprint\u001b[0m\u001b[1;33m(\u001b[0m\u001b[1;34mu\"仓位self.pos和仓位列表self.posdata不匹配\"\u001b[0m\u001b[1;33m)\u001b[0m\u001b[1;33m\u001b[0m\u001b[1;33m\u001b[0m\u001b[0m\n\u001b[0;32m    510\u001b[0m             \u001b[1;32mimport\u001b[0m \u001b[0msys\u001b[0m\u001b[1;33m\u001b[0m\u001b[1;33m\u001b[0m\u001b[0m\n\u001b[1;32m--> 511\u001b[1;33m             \u001b[0msys\u001b[0m\u001b[1;33m.\u001b[0m\u001b[0mexit\u001b[0m\u001b[1;33m(\u001b[0m\u001b[1;36m1\u001b[0m\u001b[1;33m)\u001b[0m\u001b[1;33m\u001b[0m\u001b[1;33m\u001b[0m\u001b[0m\n\u001b[0m\u001b[0;32m    512\u001b[0m \u001b[1;33m\u001b[0m\u001b[0m\n\u001b[0;32m    513\u001b[0m         \u001b[1;32mif\u001b[0m \u001b[0mself\u001b[0m\u001b[1;33m.\u001b[0m\u001b[0mpos\u001b[0m\u001b[1;33m==\u001b[0m\u001b[1;36m0\u001b[0m\u001b[1;33m:\u001b[0m  \u001b[1;31m#无仓位\u001b[0m\u001b[1;33m\u001b[0m\u001b[1;33m\u001b[0m\u001b[0m\n",
      "\u001b[1;31mSystemExit\u001b[0m: 1"
     ]
    }
   ],
   "source": [
    "%tb "
   ]
  },
  {
   "cell_type": "code",
   "execution_count": null,
   "metadata": {},
   "outputs": [],
   "source": []
  }
 ],
 "metadata": {
  "kernelspec": {
   "display_name": "Python 3",
   "language": "python",
   "name": "python3"
  },
  "language_info": {
   "codemirror_mode": {
    "name": "ipython",
    "version": 3
   },
   "file_extension": ".py",
   "mimetype": "text/x-python",
   "name": "python",
   "nbconvert_exporter": "python",
   "pygments_lexer": "ipython3",
   "version": "3.7.1"
  }
 },
 "nbformat": 4,
 "nbformat_minor": 4
}
