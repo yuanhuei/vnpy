{
 "cells": [
  {
   "cell_type": "code",
   "execution_count": 3,
   "metadata": {},
   "outputs": [
    {
     "name": "stdout",
     "output_type": "stream",
     "text": [
      "['Google', 'Runoob']\n"
     ]
    }
   ],
   "source": [
    "list = []          ## 空列表\n",
    "list.append('Google')   ## 使用 append() 添加元素\n",
    "list.append('Runoob')\n",
    "print(list)"
   ]
  }
 ],
 "metadata": {
  "kernelspec": {
   "display_name": "Python 3",
   "language": "python",
   "name": "python3"
  }
 },
 "nbformat": 4,
 "nbformat_minor": 4
}
